{
 "cells": [
  {
   "cell_type": "markdown",
   "metadata": {},
   "source": [
    "## **Exercise 3: Python Module**"
   ]
  },
  {
   "cell_type": "markdown",
   "metadata": {},
   "source": [
    "### 1. Create a Python module with a get_manor_ids function that takes a place id as parameter and returns the list of manors."
   ]
  },
  {
   "cell_type": "code",
   "execution_count": 90,
   "metadata": {},
   "outputs": [
    {
     "name": "stdout",
     "output_type": "stream",
     "text": [
      "[13038]\n"
     ]
    }
   ],
   "source": [
    "import requests\n",
    "\n",
    "def get_manor_ids(place_id):\n",
    "\n",
    "    url= \"https://opendomesday.org/api/1.0/place/\"\n",
    "    if(type(place_id) != str):\n",
    "        place_id = str(place_id)\n",
    "\n",
    "    manors_id = []\n",
    "\n",
    "    response = requests.get(url + place_id)\n",
    "\n",
    "    for i in range(len(response.json()[\"manors\"])):\n",
    "        manors_id.append(response.json()[\"manors\"][i][\"id\"])\n",
    "\n",
    "    return manors_id\n",
    "\n",
    "if __name__ == '__main__':\n",
    "\n",
    "    first_place_id = 1036\n",
    "    print(get_manor_ids(first_place_id))\n",
    "\n"
   ]
  },
  {
   "cell_type": "markdown",
   "metadata": {},
   "source": [
    "## **Exercise 4: Python Program**"
   ]
  },
  {
   "cell_type": "markdown",
   "metadata": {},
   "source": [
    "\n",
    "### 1. Enrich your module to get all manors in all places in Derbyshire."
   ]
  },
  {
   "cell_type": "code",
   "execution_count": 91,
   "metadata": {},
   "outputs": [],
   "source": [
    "def get_all_places_ids(name):\n",
    "    \n",
    "    \"\"\"\n",
    "    Returns a list of all the place IDs in Derbyshire county.\n",
    "\n",
    "    Args:\n",
    "        name (str): The name of the county.\n",
    "\n",
    "    Returns:\n",
    "        list: A list of integers representing the place IDs in Derbyshire county.\n",
    "    \"\"\"\n",
    "    \n",
    "    if(type(name) != str):\n",
    "        name = str(name)\n",
    "\n",
    "    places = []\n",
    "    url = \"https://opendomesday.org/api/1.0/county/\"\n",
    "    response = requests.get(url)\n",
    "\n",
    "    for x in response.json():\n",
    "        if(x[\"name\"] == \"Derbyshire\"):\n",
    "\n",
    "            for i in range(len(x[\"places_in_county\"])):\n",
    "                places.append(x[\"places_in_county\"][i][\"id\"])\n",
    "\n",
    "    return places"
   ]
  },
  {
   "cell_type": "code",
   "execution_count": 92,
   "metadata": {},
   "outputs": [],
   "source": [
    "def get_all_manors_ids(name):\n",
    "    \n",
    "    \"\"\"\n",
    "    This function takes a county name as input and returns a list of all the manor ids in that county.\n",
    "    \n",
    "    Args:\n",
    "    - name (str): The name of the county to search for manors in.\n",
    "    \n",
    "    Returns:\n",
    "    - manors (list): A list of all the manor ids in the given county.\n",
    "    \"\"\"\n",
    "    \n",
    "    manors = []\n",
    "    \n",
    "    places = get_all_places_ids(name)\n",
    "    \n",
    "    for x in places:\n",
    "        manors_list = get_manor_ids(x)\n",
    "        \n",
    "        for y in manors_list:\n",
    "            manors.append(y)\n",
    "    type(manors)\n",
    "    return manors\n"
   ]
  },
  {
   "cell_type": "markdown",
   "metadata": {},
   "source": [
    "### 2. Retrieve the geld paid and total ploughs owned by all those manors."
   ]
  },
  {
   "cell_type": "markdown",
   "metadata": {},
   "source": [
    "Geld:"
   ]
  },
  {
   "cell_type": "code",
   "execution_count": 93,
   "metadata": {},
   "outputs": [],
   "source": [
    "def get_geld(manor_id):\n",
    "    \n",
    "    \"\"\"\n",
    "    Given a manor id, returns the geld of that manor.\n",
    "\n",
    "    Parameters:\n",
    "    manor_id (int): The ID of the manor to get the geld for.\n",
    "\n",
    "    Returns:\n",
    "    int: The geld of the manor.\n",
    "    \"\"\"\n",
    "    \n",
    "    url = \"https://opendomesday.org/api/1.0/manor/\"\n",
    "    \n",
    "    response = requests.get(url + str(manor_id) + '/')\n",
    "    geld = response.json()[\"geld\"]\n",
    "    \n",
    "    return geld\n"
   ]
  },
  {
   "cell_type": "code",
   "execution_count": 94,
   "metadata": {},
   "outputs": [],
   "source": [
    "def get_all_gelds(manors_list):\n",
    "    \n",
    "    \"\"\"\n",
    "    Returns a list of all the geld values for the given list of manor ids.\n",
    "    \n",
    "    Args:\n",
    "    manors_list (list): A list of manor ids for which the geld values are required.\n",
    "    \n",
    "    Returns:\n",
    "    list: A list of geld values for the given manor ids.\n",
    "    \"\"\"\n",
    "    \n",
    "    gelds_list = []\n",
    "    \n",
    "    for x in manors_list:\n",
    "        geld = get_geld(x)\n",
    "        gelds_list.append(geld)\n",
    "        \n",
    "    return gelds_list\n"
   ]
  },
  {
   "cell_type": "markdown",
   "metadata": {},
   "source": [
    "Plough:"
   ]
  },
  {
   "cell_type": "code",
   "execution_count": 95,
   "metadata": {},
   "outputs": [],
   "source": [
    "def get_plough(manor_id):\n",
    "    \n",
    "    \"\"\"\n",
    "    Returns the number of ploughlands for a given manor ID.\n",
    "    \n",
    "    Args:\n",
    "    - manor_id (int): The ID of the manor for which to retrieve the number of ploughlands.\n",
    "    \n",
    "    Returns:\n",
    "    - int: The number of ploughlands for the given manor ID.\n",
    "    \"\"\"\n",
    "    \n",
    "    url = \"https://opendomesday.org/api/1.0/manor/\"\n",
    "    \n",
    "    response = requests.get(url + str(manor_id) + '/')\n",
    "    plough = response.json()[\"ploughlands\"]\n",
    "    \n",
    "    return plough\n"
   ]
  },
  {
   "cell_type": "code",
   "execution_count": 96,
   "metadata": {},
   "outputs": [],
   "source": [
    "\n",
    "def get_all_ploughs(manors_list):\n",
    "    \n",
    "    \"\"\"\n",
    "    Returns a list of plough values for all manors in a given list.\n",
    "    \n",
    "    Parameters:\n",
    "        manors_list (list): List of manor IDs to retrieve plough values for.\n",
    "        \n",
    "    Returns:\n",
    "        list: List of plough values for all manors in the given list.\n",
    "    \"\"\"\n",
    "    \n",
    "    ploughs_list = []\n",
    "    \n",
    "    for x in manors_list:\n",
    "        plough = get_plough(x)\n",
    "        ploughs_list.append(plough)\n",
    "        \n",
    "    return plough"
   ]
  },
  {
   "attachments": {},
   "cell_type": "markdown",
   "metadata": {},
   "source": [
    "### 3. Create a Pandas DataFrame with the same information"
   ]
  },
  {
   "cell_type": "code",
   "execution_count": 97,
   "metadata": {},
   "outputs": [
    {
     "data": {
      "text/html": [
       "<div>\n",
       "<style scoped>\n",
       "    .dataframe tbody tr th:only-of-type {\n",
       "        vertical-align: middle;\n",
       "    }\n",
       "\n",
       "    .dataframe tbody tr th {\n",
       "        vertical-align: top;\n",
       "    }\n",
       "\n",
       "    .dataframe thead th {\n",
       "        text-align: right;\n",
       "    }\n",
       "</style>\n",
       "<table border=\"1\" class=\"dataframe\">\n",
       "  <thead>\n",
       "    <tr style=\"text-align: right;\">\n",
       "      <th></th>\n",
       "      <th>Manors</th>\n",
       "      <th>Gelds</th>\n",
       "      <th>Ploughs</th>\n",
       "    </tr>\n",
       "  </thead>\n",
       "  <tbody>\n",
       "    <tr>\n",
       "      <th>0</th>\n",
       "      <td>13038</td>\n",
       "      <td>1.50</td>\n",
       "      <td>7.0</td>\n",
       "    </tr>\n",
       "    <tr>\n",
       "      <th>1</th>\n",
       "      <td>13040</td>\n",
       "      <td>2.00</td>\n",
       "      <td>7.0</td>\n",
       "    </tr>\n",
       "    <tr>\n",
       "      <th>2</th>\n",
       "      <td>13031</td>\n",
       "      <td>2.08</td>\n",
       "      <td>7.0</td>\n",
       "    </tr>\n",
       "    <tr>\n",
       "      <th>3</th>\n",
       "      <td>13037</td>\n",
       "      <td>4.00</td>\n",
       "      <td>7.0</td>\n",
       "    </tr>\n",
       "    <tr>\n",
       "      <th>4</th>\n",
       "      <td>13039</td>\n",
       "      <td>1.00</td>\n",
       "      <td>7.0</td>\n",
       "    </tr>\n",
       "  </tbody>\n",
       "</table>\n",
       "</div>"
      ],
      "text/plain": [
       "   Manors  Gelds  Ploughs\n",
       "0   13038   1.50      7.0\n",
       "1   13040   2.00      7.0\n",
       "2   13031   2.08      7.0\n",
       "3   13037   4.00      7.0\n",
       "4   13039   1.00      7.0"
      ]
     },
     "execution_count": 97,
     "metadata": {},
     "output_type": "execute_result"
    }
   ],
   "source": [
    "import pandas as pd\n",
    "\n",
    "manors = get_all_manors_ids(\"Derbyshire\")\n",
    "gelds = get_all_gelds(manors)\n",
    "ploughs = get_all_ploughs(manors)\n",
    "\n",
    "df_Derbyshire = pd.DataFrame({'Manors': manors, 'Gelds': gelds, 'Ploughs': ploughs})\n",
    "df_Derbyshire.head()"
   ]
  },
  {
   "attachments": {},
   "cell_type": "markdown",
   "metadata": {},
   "source": [
    "### 4. Use Pandas to compute the sum of geld paid and total ploughs owned in Derbyshire."
   ]
  },
  {
   "cell_type": "code",
   "execution_count": 98,
   "metadata": {},
   "outputs": [
    {
     "data": {
      "text/plain": [
       "2221.16"
      ]
     },
     "execution_count": 98,
     "metadata": {},
     "output_type": "execute_result"
    }
   ],
   "source": [
    "geldSum = df_Derbyshire[\"Gelds\"].sum()\n",
    "geldSum"
   ]
  },
  {
   "cell_type": "code",
   "execution_count": 99,
   "metadata": {},
   "outputs": [
    {
     "data": {
      "text/plain": [
       "3136.0"
      ]
     },
     "execution_count": 99,
     "metadata": {},
     "output_type": "execute_result"
    }
   ],
   "source": [
    "ploughSum = df_Derbyshire[\"Ploughs\"].sum()\n",
    "ploughSum"
   ]
  }
 ],
 "metadata": {
  "kernelspec": {
   "display_name": "Python 3",
   "language": "python",
   "name": "python3"
  },
  "language_info": {
   "codemirror_mode": {
    "name": "ipython",
    "version": 3
   },
   "file_extension": ".py",
   "mimetype": "text/x-python",
   "name": "python",
   "nbconvert_exporter": "python",
   "pygments_lexer": "ipython3",
   "version": "3.10.10"
  },
  "orig_nbformat": 4
 },
 "nbformat": 4,
 "nbformat_minor": 2
}
